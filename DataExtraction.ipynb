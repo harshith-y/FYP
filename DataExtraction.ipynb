{
  "nbformat": 4,
  "nbformat_minor": 0,
  "metadata": {
    "colab": {
      "provenance": []
    },
    "kernelspec": {
      "name": "python3",
      "display_name": "Python 3"
    },
    "language_info": {
      "name": "python"
    }
  },
  "cells": [
    {
      "cell_type": "code",
      "source": [
        "from google.colab import drive\n",
        "drive.mount('/content/drive')\n",
        "\n",
        "import pandas as pd\n",
        "import numpy as np\n",
        "import os\n",
        "\n",
        "folder_path = '/content/drive/My Drive/FYP'\n",
        "os.chdir(folder_path)\n"
      ],
      "metadata": {
        "colab": {
          "base_uri": "https://localhost:8080/"
        },
        "id": "N5yWppJkyJwm",
        "outputId": "7573700d-19f1-40c7-dd51-d44d3acab241"
      },
      "execution_count": null,
      "outputs": [
        {
          "output_type": "stream",
          "name": "stdout",
          "text": [
            "Mounted at /content/drive\n"
          ]
        }
      ]
    },
    {
      "cell_type": "code",
      "execution_count": null,
      "metadata": {
        "colab": {
          "base_uri": "https://localhost:8080/"
        },
        "id": "BwZUBci9yBLi",
        "outputId": "2b13bb4a-8df3-491a-d268-4f2b46c6fff5"
      },
      "outputs": [
        {
          "output_type": "stream",
          "name": "stdout",
          "text": [
            "\n",
            "Processing patient: 60b9c27a-7615-401f-b86d-62a2ac97cbcc\n",
            "✔ Saved: wide_format/patient_60b9c27a_wide.csv\n",
            "\n",
            "Processing patient: 47b5aa6b-e0c3-48a9-8feb-8eee68c19f88\n",
            "✔ Saved: wide_format/patient_47b5aa6b_wide.csv\n",
            "\n",
            "Processing patient: ab993210-27a1-451a-b8a4-4cddabb329c6\n",
            "✔ Saved: wide_format/patient_ab993210_wide.csv\n",
            "\n",
            "Processing patient: b4bdfa85-0735-4868-947b-11cfe178f014\n",
            "✔ Saved: wide_format/patient_b4bdfa85_wide.csv\n",
            "\n",
            "Processing patient: 46f119e5-da28-456d-86ed-50bb9452abf9\n",
            "✔ Saved: wide_format/patient_46f119e5_wide.csv\n"
          ]
        }
      ],
      "source": [
        "# Load data\n",
        "users_df = pd.read_csv('users_demographics.csv')\n",
        "data_df = pd.read_csv('health_data_points.csv')\n",
        "\n",
        "# Ensure datetime format\n",
        "data_df['start_date'] = pd.to_datetime(data_df['start_date'])\n",
        "data_df['end_date'] = pd.to_datetime(data_df['end_date'])\n",
        "\n",
        "# Create output folder\n",
        "os.makedirs(\"wide_format\", exist_ok=True)\n",
        "\n",
        "# Loop over patients\n",
        "for user_id in users_df['user_id'].unique():\n",
        "    print(f\"\\nProcessing patient: {user_id}\")\n",
        "\n",
        "    user_data = data_df[data_df['user_id'] == user_id].copy()\n",
        "    if user_data.empty:\n",
        "        print(\"No data for this user.\")\n",
        "        continue\n",
        "\n",
        "    # Step 1: Get basal durations using method 1\n",
        "    basal_entries = user_data[user_data['type'] == 'basal'].copy()\n",
        "    basal_entries['duration_minutes'] = (basal_entries['end_date'] - basal_entries['start_date']).dt.total_seconds() / 60\n",
        "\n",
        "    # Keep only necessary columns\n",
        "    basal_duration = basal_entries[['start_date', 'duration_minutes']]\n",
        "\n",
        "    # Step 2: Pivot full health data to wide format\n",
        "    pivot_df = user_data.pivot_table(\n",
        "        index='start_date',\n",
        "        columns='type',\n",
        "        values='value',\n",
        "        aggfunc='first'\n",
        "    ).reset_index()\n",
        "\n",
        "    pivot_df = pivot_df.sort_values(by='start_date')\n",
        "\n",
        "    # Step 3: Merge in the duration values for basal\n",
        "    pivot_df = pd.merge(pivot_df, basal_duration, on='start_date', how='left')\n",
        "    pivot_df.rename(columns={'duration_minutes': 'basal_duration_minutes'}, inplace=True)\n",
        "\n",
        "    # Step 4: Save to wide_format folder\n",
        "    filename = f'wide_format/patient_{user_id[:8]}_wide.csv'\n",
        "    pivot_df.to_csv(filename, index=False)\n",
        "    print(f\"✔ Saved: {filename}\")"
      ]
    },
    {
      "cell_type": "code",
      "source": [
        "# Load data\n",
        "users_df = pd.read_csv('users_demographics.csv')\n",
        "data_df = pd.read_csv('health_data_points.csv')\n",
        "\n",
        "# Convert datetime\n",
        "data_df['start_date'] = pd.to_datetime(data_df['start_date'])\n",
        "data_df['end_date'] = pd.to_datetime(data_df['end_date'])\n",
        "\n",
        "# Global reference time (t=0)\n",
        "reference_time = data_df['start_date'].min()\n",
        "\n",
        "# Create output folder\n",
        "os.makedirs(\"wide_format\", exist_ok=True)\n",
        "\n",
        "print(\"Unique types in dataset:\", data_df['type'].unique())\n",
        "\n",
        "# Loop through users\n",
        "for user_id in users_df['user_id'].unique():\n",
        "    print(f\"\\nProcessing patient: {user_id}\")\n",
        "    user_data = data_df[data_df['user_id'] == user_id].copy()\n",
        "    if user_data.empty:\n",
        "        print(\"No data for this user.\")\n",
        "        continue\n",
        "\n",
        "    # Compute time in minutes from reference\n",
        "    patient_start = user_data['start_date'].min()\n",
        "    user_data['time_min'] = ((user_data['start_date'] - patient_start).dt.total_seconds() / 60).round().astype(int)\n",
        "\n",
        "    ### Process basal ###\n",
        "    basal_data = user_data[user_data['type'] == 'basal'].copy()\n",
        "    basal_data['duration_min'] = (basal_data['end_date'] - basal_data['start_date']).dt.total_seconds() / 60\n",
        "    basal_data = basal_data[basal_data['duration_min'] >= 1]\n",
        "\n",
        "    # Expand each basal entry across its duration\n",
        "    basal_expanded = []\n",
        "    for _, row in basal_data.iterrows():\n",
        "        t_start = int(((row['start_date'] - patient_start).total_seconds()) // 60)\n",
        "        t_end = int(((row['end_date'] - patient_start).total_seconds()) // 60)\n",
        "        rate_per_min = row['value'] / 60  # U/hr → U/min\n",
        "        for t in range(t_start, t_end):\n",
        "            basal_expanded.append({'time_min': t, 'ut_basal': rate_per_min})\n",
        "    basal_df = pd.DataFrame(basal_expanded)\n",
        "\n",
        "    ### Process bolus ###\n",
        "    bolus_data = user_data[user_data['type'] == 'bolus'].copy()\n",
        "    bolus_df = bolus_data[['time_min', 'value']].copy()\n",
        "    bolus_df.rename(columns={'value': 'ut_bolus'}, inplace=True)\n",
        "\n",
        "    ### Process CHO ###\n",
        "    cho_data = user_data[user_data['type'] == 'carbs'].copy()\n",
        "    cho_df = cho_data[['time_min', 'value']].copy()\n",
        "    cho_df.rename(columns={'value': 'rt'}, inplace=True)\n",
        "\n",
        "    ### Process glucose ###\n",
        "    glucose_data = user_data[user_data['type'] == 'glucose'].copy()\n",
        "    glucose_data.sort_values(by='start_date', inplace=True)\n",
        "    glucose_df = glucose_data.groupby('time_min').tail(1)[['time_min', 'value']].copy()\n",
        "    glucose_df.rename(columns={'value': 'glucose'}, inplace=True)\n",
        "\n",
        "    ### Merge all into a wide-format time series ###\n",
        "    min_time = user_data['time_min'].min()\n",
        "    max_time = user_data['time_min'].max()\n",
        "    combined = pd.DataFrame({'time_min': np.arange(min_time, max_time + 1)})\n",
        "\n",
        "    # Safely merge each input type, only if DataFrame is non-empty\n",
        "    if not basal_df.empty:\n",
        "        combined = combined.merge(basal_df.groupby('time_min').sum(), on='time_min', how='left')\n",
        "    else:\n",
        "        combined['ut_basal'] = 0.0\n",
        "\n",
        "    if not bolus_df.empty:\n",
        "        combined = combined.merge(bolus_df.groupby('time_min').sum(), on='time_min', how='left')\n",
        "    else:\n",
        "        combined['ut_bolus'] = 0.0\n",
        "\n",
        "    if not cho_df.empty:\n",
        "        cho_grouped = cho_df.groupby('time_min').sum().reset_index()\n",
        "        combined = combined.merge(cho_grouped, on='time_min', how='left')\n",
        "    else:\n",
        "        combined['rt'] = 0.0\n",
        "\n",
        "    if not glucose_df.empty:\n",
        "        combined = combined.merge(glucose_df, on='time_min', how='left')\n",
        "    else:\n",
        "        combined['glucose'] = np.nan\n",
        "\n",
        "    # Fill missing impulses with 0s\n",
        "    combined['ut_basal'] = combined['ut_basal'].fillna(0)\n",
        "    combined['ut_bolus'] = combined['ut_bolus'].fillna(0)\n",
        "    combined['ut'] = combined['ut_basal'] + combined['ut_bolus']\n",
        "    combined['rt'] = combined['rt'].fillna(0)\n",
        "\n",
        "    # Trim dataset to end at the last glucose measurement\n",
        "    if combined['glucose'].notna().any():\n",
        "        max_glucose_time = combined[combined['glucose'].notna()]['time_min'].max()\n",
        "        combined = combined[combined['time_min'] <= max_glucose_time]\n",
        "\n",
        "    # Reorder columns\n",
        "    combined = combined[['time_min', 'ut_basal', 'ut_bolus', 'ut', 'rt', 'glucose']]\n",
        "\n",
        "    # Save file\n",
        "    filename = f\"wide_format/patient_{user_id[:8]}_wide.csv\"\n",
        "    combined.to_csv(filename, index=False)\n",
        "    print(f\"✔ Saved: {filename}\")\n"
      ],
      "metadata": {
        "colab": {
          "base_uri": "https://localhost:8080/"
        },
        "id": "v53fPSC4FA8Q",
        "outputId": "f4be0a80-0585-477a-ef29-ec1ee687fb90"
      },
      "execution_count": null,
      "outputs": [
        {
          "output_type": "stream",
          "name": "stdout",
          "text": [
            "Unique types in dataset: ['energyBurned' 'bolus' 'basal' 'steps' 'exercise' 'carbs' 'workout'\n",
            " 'distanceWalkingRunning' 'sleep' 'glucose' 'bodyWeight']\n",
            "\n",
            "Processing patient: 60b9c27a-7615-401f-b86d-62a2ac97cbcc\n",
            "✔ Saved: wide_format/patient_60b9c27a_wide.csv\n",
            "\n",
            "Processing patient: 47b5aa6b-e0c3-48a9-8feb-8eee68c19f88\n",
            "✔ Saved: wide_format/patient_47b5aa6b_wide.csv\n",
            "\n",
            "Processing patient: ab993210-27a1-451a-b8a4-4cddabb329c6\n",
            "✔ Saved: wide_format/patient_ab993210_wide.csv\n",
            "\n",
            "Processing patient: b4bdfa85-0735-4868-947b-11cfe178f014\n",
            "✔ Saved: wide_format/patient_b4bdfa85_wide.csv\n",
            "\n",
            "Processing patient: 46f119e5-da28-456d-86ed-50bb9452abf9\n",
            "✔ Saved: wide_format/patient_46f119e5_wide.csv\n"
          ]
        }
      ]
    }
  ]
}